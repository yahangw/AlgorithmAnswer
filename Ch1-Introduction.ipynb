{
 "cells": [
  {
   "cell_type": "markdown",
   "metadata": {},
   "source": [
    "# Introduction\n",
    "\n",
    "HTML is the standard markup language for creating Web pages.\n",
    "\n",
    "* HTML stands for Hyper Text Markup Language\n",
    "* HTML describes the structure of Web pages using markup\n",
    "* HTML elements are the building blocks of HTML pages\n",
    "* HTML elements are represented by tags\n",
    "* HTML tags label pieces of content such as \"heading\", \"paragraph\", \"table\", and so on\n",
    "* Browsers do not display the HTML tags, but use them to render the content of the page"
   ]
  },
  {
   "cell_type": "code",
   "execution_count": 2,
   "metadata": {
    "collapsed": false
   },
   "outputs": [
    {
     "data": {
      "text/html": [
       "<!DOCTYPE html>\n",
       "<html>\n",
       "<head>\n",
       "<title>Page Title</title>\n",
       "</head>\n",
       "<body>\n",
       "\n",
       "<h1>My First Heading</h1>\n",
       "<p>My first paragraph.</p>\n",
       "\n",
       "</body>\n",
       "</html>"
      ],
      "text/plain": [
       "<IPython.core.display.HTML object>"
      ]
     },
     "metadata": {},
     "output_type": "display_data"
    }
   ],
   "source": [
    "%%html\n",
    "<!DOCTYPE html>\n",
    "<html>\n",
    "<head>\n",
    "<title>Page Title</title>\n",
    "</head>\n",
    "<body>\n",
    "\n",
    "<h1>My First Heading</h1>\n",
    "<p>My first paragraph.</p>\n",
    "\n",
    "</body>\n",
    "</html>"
   ]
  },
  {
   "cell_type": "markdown",
   "metadata": {},
   "source": [
    "* The `<!DOCTYPE html>` declaration defines this document to be HTML5\n",
    "* The `<html>` element is the root element of an HTML page\n",
    "* The `<head>` element contains meta information about the document\n",
    "* The `<title>` element specifies a title for the document\n",
    "* The `<body>` element contains the visible page content\n",
    "* The `<h1>` element defines a large heading\n",
    "* The `<p>` element defines a paragraph\n",
    "\n",
    "The purpose of a web browser (Chrome, IE, Firefox, Safari) is to read HTML documents and display them.\n",
    "\n",
    "The browser does not display the HTML tags, but uses them to determine how to display the document.\n",
    "\n",
    "Below is a visualization of an HTML page structure:\n",
    "\n",
    "<img src=\"img/img01.png\" width=\"500\">\n",
    "\n",
    "Only the content inside the `<body>` section (the white area above) is displayed in a browser.\n",
    "\n",
    "The `<!DOCTYPE>` declaration represents the document type, and helps browsers to display web pages correctly. It must only appear once, at the top of the page (before any HTML tags).\n",
    "\n",
    "# Basics"
   ]
  },
  {
   "cell_type": "code",
   "execution_count": 3,
   "metadata": {
    "collapsed": false
   },
   "outputs": [
    {
     "data": {
      "text/html": [
       "\n",
       "<a href=\"https://www.w3schools.com\">This is a link</a>"
      ],
      "text/plain": [
       "<IPython.core.display.HTML object>"
      ]
     },
     "metadata": {},
     "output_type": "display_data"
    }
   ],
   "source": [
    "%%html\n",
    "<a href=\"https://www.w3schools.com\">This is a link</a>"
   ]
  },
  {
   "cell_type": "markdown",
   "metadata": {},
   "source": [
    "HTML links are defined with the `<a>` tag. The link's destination is specified in the `href` attribute. Attributes are used to provide additional information about HTML elements.\n",
    "\n",
    "HTML images are defined with the `<img>` tag.\n",
    "\n",
    "The source file (`src`), alternative text (`alt`), width, and height are provided as attributes:\n",
    "\n",
    "`<img src=\"w3schools.jpg\" alt=\"W3Schools.com\" width=\"104\" height=\"142\">`\n",
    "\n",
    "HTML buttons are defined with the `<button>` tag:"
   ]
  },
  {
   "cell_type": "code",
   "execution_count": 6,
   "metadata": {
    "collapsed": false
   },
   "outputs": [
    {
     "data": {
      "text/html": [
       "<button>Click me</button>"
      ],
      "text/plain": [
       "<IPython.core.display.HTML object>"
      ]
     },
     "metadata": {},
     "output_type": "display_data"
    }
   ],
   "source": [
    "%%html\n",
    "<button>Click me</button>"
   ]
  },
  {
   "cell_type": "markdown",
   "metadata": {},
   "source": [
    "HTML lists are defined with the `<ul>` (unordered/bullet list) or the `<ol>` (ordered/numbered list) tag, followed by `<li>` tags (list items):"
   ]
  },
  {
   "cell_type": "code",
   "execution_count": 7,
   "metadata": {
    "collapsed": false
   },
   "outputs": [
    {
     "data": {
      "text/html": [
       "<h2>An Unordered HTML List</h2>\n",
       "\n",
       "<ul>\n",
       "  <li>Coffee</li>\n",
       "  <li>Tea</li>\n",
       "  <li>Milk</li>\n",
       "</ul>  \n",
       "\n",
       "<h2>An Ordered HTML List</h2>\n",
       "\n",
       "<ol>\n",
       "  <li>Coffee</li>\n",
       "  <li>Tea</li>\n",
       "  <li>Milk</li>\n",
       "</ol> "
      ],
      "text/plain": [
       "<IPython.core.display.HTML object>"
      ]
     },
     "metadata": {},
     "output_type": "display_data"
    }
   ],
   "source": [
    "%%html\n",
    "<h2>An Unordered HTML List</h2>\n",
    "\n",
    "<ul>\n",
    "  <li>Coffee</li>\n",
    "  <li>Tea</li>\n",
    "  <li>Milk</li>\n",
    "</ul>  \n",
    "\n",
    "<h2>An Ordered HTML List</h2>\n",
    "\n",
    "<ol>\n",
    "  <li>Coffee</li>\n",
    "  <li>Tea</li>\n",
    "  <li>Milk</li>\n",
    "</ol> "
   ]
  },
  {
   "cell_type": "markdown",
   "metadata": {},
   "source": [
    "# Elements\n",
    "\n",
    "An HTML element usually consists of a **start** tag and **end** tag, with the content inserted in between:\n",
    "\n",
    "<img src=\"img/img02.png\" width=\"500\">\n",
    "\n",
    "HTML elements with no content are called empty elements. Empty elements do not have an end tag, such as the `<br>` element (which indicates a line break). Empty elements can be \"closed\" in the opening tag like this: `<br />`. HTML5 does not require empty elements to be closed. But if you want stricter validation, or if you need to make your document readable by XML parsers, you must close all HTML elements properly.\n",
    "\n",
    "HTML elements can be nested (elements can contain elements).\n",
    "\n",
    "This example contains four HTML elements:\n",
    "\n",
    "```\n",
    "<!DOCTYPE html>\n",
    "<html>\n",
    "<body>\n",
    "\n",
    "<h1>My First Heading</h1>\n",
    "<p>My first paragraph.</p>\n",
    "\n",
    "</body>\n",
    "</html>\n",
    "```\n",
    "\n",
    "The `<html>` element defines the **whole document**. It has a start tag `<html>` and an end tag `</html>`. The element **content** is another HTML element (the `<body>` element). The `<body>` element defines the **document body**. The element **content** is two other HTML elements (`<h1>` and `<p>`).\n",
    "\n",
    "The HTML5 standard does not require lowercase tags, but W3C **recommends** lowercase in HTML, and **demands** lowercase for stricter document types like XHTML.\n",
    "\n",
    "# Attributes\n",
    "\n",
    "* All HTML elements can have attributes\n",
    "* Attributes provide additional information about an element\n",
    "* Attributes are always specified in the **start tag**\n",
    "* Attributes usually come in name/value pairs like: **name=\"value\"**\n",
    "\n",
    "The `style` attribute is used to specify the styling of an element, like color, font, size etc.\n",
    "\n",
    "`<p style=\"color:red\">I am a paragraph.</p>`\n",
    "\n",
    "The language of the document can be declared in the `<html>` tag. The language is declared with the `lang` attribute. The first two letters specify the language (en). If there is a dialect, use two more letters (US).\n",
    "\n",
    "`<html lang=\"en-US\">`\n",
    "\n",
    "Here, a title attribute is added to the `<p>` element. The value of the `title` attribute will be displayed as a tooltip when you mouse over the paragraph:"
   ]
  },
  {
   "cell_type": "code",
   "execution_count": 8,
   "metadata": {
    "collapsed": false
   },
   "outputs": [
    {
     "data": {
      "text/html": [
       "<h2 title=\"I'm a header\">The title Attribute</h2>\n",
       "\n",
       "<p title=\"I'm a tooltip\">\n",
       "Mouse over this paragraph, to display the title attribute as a tooltip.\n",
       "</p>"
      ],
      "text/plain": [
       "<IPython.core.display.HTML object>"
      ]
     },
     "metadata": {},
     "output_type": "display_data"
    }
   ],
   "source": [
    "%%html\n",
    "<h2 title=\"I'm a header\">The title Attribute</h2>\n",
    "\n",
    "<p title=\"I'm a tooltip\">\n",
    "Mouse over this paragraph, to display the title attribute as a tooltip.\n",
    "</p>"
   ]
  },
  {
   "cell_type": "markdown",
   "metadata": {},
   "source": [
    "Double quotes around attribute values are the most common in HTML, but single quotes can also be used.\n",
    "\n",
    "In some situations, when the attribute value itself contains double quotes, it is necessary to use single quotes:"
   ]
  },
  {
   "cell_type": "code",
   "execution_count": 9,
   "metadata": {
    "collapsed": false
   },
   "outputs": [
    {
     "data": {
      "text/html": [
       "<p title='John \"ShotGun\" Nelson'>John with double quotes</p>\n",
       "<p title=\"John 'ShotGun' Nelson\">John with single quotes</p>"
      ],
      "text/plain": [
       "<IPython.core.display.HTML object>"
      ]
     },
     "metadata": {},
     "output_type": "display_data"
    }
   ],
   "source": [
    "%%html\n",
    "<p title='John \"ShotGun\" Nelson'>John with double quotes</p>\n",
    "<p title=\"John 'ShotGun' Nelson\">John with single quotes</p>"
   ]
  },
  {
   "cell_type": "markdown",
   "metadata": {},
   "source": [
    "# Headings\n",
    "\n",
    "Each HTML heading has a default size. However, you can specify the size for any heading with the `style` attribute, using the CSS `font-size` property:\n",
    "\n",
    "`<h1 style=\"font-size:60px;\">Heading 1</h1>`\n",
    "\n",
    "The `<hr>` tag defines a thematic break in an HTML page, and is most often displayed as a horizontal rule.\n",
    "\n",
    "The `<hr>` element is used to separate content (or define a change) in an HTML page:"
   ]
  },
  {
   "cell_type": "code",
   "execution_count": 10,
   "metadata": {
    "collapsed": false
   },
   "outputs": [
    {
     "data": {
      "text/html": [
       "<h1>This is heading 1</h1>\n",
       "<p>This is some text.</p>\n",
       "<hr>\n",
       "\n",
       "<h2>This is heading 2</h2>\n",
       "<p>This is some other text.</p>\n",
       "<hr>\n",
       "\n",
       "<h2>This is heading 2</h2>\n",
       "<p>This is some other text.</p>"
      ],
      "text/plain": [
       "<IPython.core.display.HTML object>"
      ]
     },
     "metadata": {},
     "output_type": "display_data"
    }
   ],
   "source": [
    "%%html\n",
    "<h1>This is heading 1</h1>\n",
    "<p>This is some text.</p>\n",
    "<hr>\n",
    "\n",
    "<h2>This is heading 2</h2>\n",
    "<p>This is some other text.</p>\n",
    "<hr>\n",
    "\n",
    "<h2>This is heading 2</h2>\n",
    "<p>This is some other text.</p>"
   ]
  },
  {
   "cell_type": "markdown",
   "metadata": {},
   "source": [
    "The HTML `<head>` element has nothing to do with HTML headings. The `<head>` element is a container for metadata. HTML metadata is data about the HTML document. Metadata is not displayed. The `<head>` element is placed between the `<html>` tag and the `<body>` tag:\n",
    "\n",
    "```\n",
    "<!DOCTYPE html>\n",
    "<html>\n",
    "<head>\n",
    "  <title>My First HTML</title>\n",
    "  <meta charset=\"UTF-8\">\n",
    "</head>\n",
    "<body>\n",
    "\n",
    "<p>The HTML head element contains meta data.</p>\n",
    "<p>Meta data is data about the HTML document.</p>\n",
    "\n",
    "</body>\n",
    "</html>\n",
    "```\n",
    "\n",
    "Metadata typically define the document title, character set, styles, links, scripts, and other meta information.\n",
    "\n",
    "You cannot be sure how HTML will be displayed. Large or small screens, and resized windows will create different results. With HTML, you cannot change the output by adding extra spaces or extra lines in your HTML code. The browser will remove any extra spaces and extra lines when the page is displayed.\n",
    "\n",
    "Use `<br>` if you want a line break (a new line) without starting a new paragraph:\n",
    "\n",
    "`<p>This is<br>a paragraph<br>with line breaks</p>`\n",
    "\n",
    "The HTML `<pre>` element defines preformatted text.\n",
    "\n",
    "The text inside a `<pre>` element is displayed in a fixed-width font (usually Courier), and it **preserves** both spaces and line breaks:"
   ]
  },
  {
   "cell_type": "code",
   "execution_count": 11,
   "metadata": {
    "collapsed": false
   },
   "outputs": [
    {
     "data": {
      "text/html": [
       "<pre>\n",
       "   My Bonnie lies over the ocean.\n",
       "\n",
       "   My Bonnie lies over the sea.\n",
       "\n",
       "   My Bonnie lies over the ocean.\n",
       "   \n",
       "   Oh, bring back my Bonnie to me.\n",
       "</pre>"
      ],
      "text/plain": [
       "<IPython.core.display.HTML object>"
      ]
     },
     "metadata": {},
     "output_type": "display_data"
    }
   ],
   "source": [
    "%%html\n",
    "<pre>\n",
    "   My Bonnie lies over the ocean.\n",
    "\n",
    "   My Bonnie lies over the sea.\n",
    "\n",
    "   My Bonnie lies over the ocean.\n",
    "   \n",
    "   Oh, bring back my Bonnie to me.\n",
    "</pre>"
   ]
  },
  {
   "cell_type": "markdown",
   "metadata": {},
   "source": [
    "# Styles\n",
    "\n",
    "Setting the style of an HTML element, can be done with the `style` attribute. The HTML `style` attribute has the following syntax:\n",
    "\n",
    "`<tagname style=\"property:value;\">`\n",
    "\n",
    "The `background-color` property defines the background color for an HTML element. This example sets the background color for a page to powderblue:\n",
    "\n",
    "`<body style=\"background-color:powderblue;\">`\n",
    "\n",
    "The `font-family` property defines the font to be used for an HTML element:\n",
    "\n",
    "`<h1 style=\"font-family:verdana;\">This is a heading</h1>`\n",
    "\n",
    "The font-size property defines the text size for an HTML element:\n",
    "\n",
    "`<h1 style=\"font-size:300%;\">This is a heading</h1>`\n",
    "\n",
    "The `text-align` property defines the horizontal text alignment for an HTML element:\n",
    "\n",
    "`<p style=\"text-align:center;\">Centered paragraph.</p>`\n",
    "\n",
    "# Text Formatting\n",
    "\n",
    "HTML also defines special **elements** for defining text with a special meaning.\n",
    "\n",
    "Formatting elements were designed to display special types of text:\n",
    "\n",
    "* `<b>` - Bold text\n",
    "* `<strong>` - Important text\n",
    "* `<i>` - Italic text\n",
    "* `<em>` - Emphasized text\n",
    "* `<mark>` - Marked text\n",
    "* `<small>` - Small text\n",
    "* `<del>` - Deleted text\n",
    "* `<ins>` - Inserted text\n",
    "* `<sub>` - Subscript text\n",
    "* `<sup>` - Superscript text\n",
    "\n",
    "`<b>This text is bold</b>`\n",
    "\n",
    "# Quotations\n",
    "\n",
    "The HTML `<q>` element defines a short quotation. Browsers usually insert quotation marks around the `<q>` element.\n",
    "\n",
    "The HTML `<blockquote>` element defines a section that is quoted from another source. Browsers usually indent `<blockquote>` elements."
   ]
  },
  {
   "cell_type": "code",
   "execution_count": 14,
   "metadata": {
    "collapsed": false
   },
   "outputs": [
    {
     "data": {
      "text/html": [
       "<p>Browsers usually indent blockquote elements.</p>\n",
       "\n",
       "<blockquote cite=\"http://www.worldwildlife.org/who/index.html\">\n",
       "For 50 years, WWF has been protecting the future of nature.\n",
       "The world's leading conservation organization,\n",
       "WWF works in 100 countries and is supported by\n",
       "1.2 million members in the United States and\n",
       "close to 5 million globally.\n",
       "</blockquote>"
      ],
      "text/plain": [
       "<IPython.core.display.HTML object>"
      ]
     },
     "metadata": {},
     "output_type": "display_data"
    }
   ],
   "source": [
    "%%html\n",
    "<p>Browsers usually indent blockquote elements.</p>\n",
    "\n",
    "<blockquote cite=\"http://www.worldwildlife.org/who/index.html\">\n",
    "For 50 years, WWF has been protecting the future of nature.\n",
    "The world's leading conservation organization,\n",
    "WWF works in 100 countries and is supported by\n",
    "1.2 million members in the United States and\n",
    "close to 5 million globally.\n",
    "</blockquote>"
   ]
  },
  {
   "cell_type": "markdown",
   "metadata": {},
   "source": [
    "The HTML `<abbr>` element defines an abbreviation or an acronym. Marking abbreviations can give useful information to browsers, translation systems and search-engines.\n",
    "\n",
    "`<p>The <abbr title=\"World Health Organization\">WHO</abbr> was founded in 1948.</p>`\n",
    "\n",
    "The HTML `<address>` element defines contact information (author/owner) of a document or an article. The `<address>` element is usually displayed in italic. Most browsers will add a line break before and after the element.\n",
    "\n",
    "```\n",
    "<address>\n",
    "Written by John Doe.<br> \n",
    "Visit us at:<br>\n",
    "Example.com<br>\n",
    "Box 564, Disneyland<br>\n",
    "USA\n",
    "</address>\n",
    "```\n",
    "\n",
    "The HTML `<cite>` element defines the title of a work.\n",
    "\n",
    "`<p><cite>The Scream</cite> by Edvard Munch. Painted in 1893.</p>`\n",
    "\n",
    "The HTML `<bdo>` element defines bi-directional override."
   ]
  },
  {
   "cell_type": "code",
   "execution_count": 16,
   "metadata": {
    "collapsed": false
   },
   "outputs": [
    {
     "data": {
      "text/html": [
       "<bdo dir=\"rtl\">This text will be written from right to left</bdo>"
      ],
      "text/plain": [
       "<IPython.core.display.HTML object>"
      ]
     },
     "metadata": {},
     "output_type": "display_data"
    }
   ],
   "source": [
    "%%html\n",
    "<bdo dir=\"rtl\">This text will be written from right to left</bdo>"
   ]
  },
  {
   "cell_type": "markdown",
   "metadata": {},
   "source": [
    "You can add comments to your HTML source by using the following syntax:\n",
    "\n",
    "`<!-- Write your comments here -->`\n",
    "\n",
    "# Colors\n",
    "\n",
    "You can set the color of borders:"
   ]
  },
  {
   "cell_type": "code",
   "execution_count": 20,
   "metadata": {
    "collapsed": false
   },
   "outputs": [
    {
     "data": {
      "text/html": [
       "<h1 style=\"border:2px solid Tomato;\">Hello World</h1>"
      ],
      "text/plain": [
       "<IPython.core.display.HTML object>"
      ]
     },
     "metadata": {},
     "output_type": "display_data"
    }
   ],
   "source": [
    "%%html\n",
    "<h1 style=\"border:2px solid Tomato;\">Hello World</h1>"
   ]
  },
  {
   "cell_type": "markdown",
   "metadata": {},
   "source": [
    "# CSS\n",
    "\n",
    "CSS stands for Cascading Style Sheets. CSS describes how HTML elements are to be displayed on screen, paper, or in other media. CSS saves a lot of work. It can control the layout of multiple web pages all at once. \n",
    "\n",
    "CSS can be added to HTML elements in 3 ways:\n",
    "* **Inline** - by using the `style` attribute in HTML elements\n",
    "* **Internal** - by using a `<style>` element in the `<head>` section\n",
    "* **External** - by using an external CSS file\n",
    "\n",
    "An internal CSS is used to define a style for a single HTML page."
   ]
  },
  {
   "cell_type": "code",
   "execution_count": 22,
   "metadata": {
    "collapsed": false
   },
   "outputs": [
    {
     "data": {
      "text/html": [
       "<!DOCTYPE html>\n",
       "<html>\n",
       "<head>\n",
       "<style>\n",
       "body {background-color: powderblue;}\n",
       "h1   {color: blue;}\n",
       "</style>\n",
       "</head>\n",
       "<body>\n",
       "\n",
       "<h1>This is a heading</h1>\n",
       "<p>This is a paragraph.</p>\n",
       "\n",
       "</body>\n",
       "</html>"
      ],
      "text/plain": [
       "<IPython.core.display.HTML object>"
      ]
     },
     "metadata": {},
     "output_type": "display_data"
    }
   ],
   "source": [
    "%%html\n",
    "<!DOCTYPE html>\n",
    "<html>\n",
    "<head>\n",
    "<style>\n",
    "body {background-color: powderblue;}\n",
    "h1   {color: blue;}\n",
    "</style>\n",
    "</head>\n",
    "<body>\n",
    "\n",
    "<h1>This is a heading</h1>\n",
    "<p>This is a paragraph.</p>\n",
    "\n",
    "</body>\n",
    "</html>"
   ]
  },
  {
   "cell_type": "markdown",
   "metadata": {},
   "source": [
    "To use an external style sheet, add a link to it in the `<head>` section of the HTML page:\n",
    "\n",
    "```\n",
    "<head>\n",
    "  <link rel=\"stylesheet\" href=\"styles.css\">\n",
    "</head>\n",
    "```\n",
    "\n",
    "Here is how the \"styles.css\" looks:\n",
    "\n",
    "```\n",
    "body {\n",
    "    background-color: powderblue;\n",
    "}\n",
    "h1 {\n",
    "    color: blue;\n",
    "}\n",
    "p {\n",
    "    color: red;\n",
    "}\n",
    "```\n",
    "\n",
    "The CSS `padding` property defines a padding (space) between the text and the border. The CSS `margin` property defines a margin (space) outside the border. \n",
    "\n",
    "```\n",
    "p {\n",
    "    border: 1px solid powderblue;\n",
    "    padding: 30px;\n",
    "    margin: 50px;\n",
    "}\n",
    "```\n",
    "\n",
    "To define a specific style for one special element, add an `id` attribute to the element:\n",
    "\n",
    "`<p id=\"p01\">I am different</p>`\n",
    "\n",
    "then define a style for the element with the specific id:\n",
    "\n",
    "```\n",
    "#p01 {\n",
    "    color: blue;\n",
    "}\n",
    "```\n",
    "\n",
    "To define a style for a special type of elements, add a `class` attribute to the element:\n",
    "\n",
    "`<p class=\"error\">I am different</p>`\n",
    "\n",
    "then define a style for the elements with the specific class:\n",
    "\n",
    "```\n",
    "p.error {\n",
    "    color: red;\n",
    "}\n",
    "```\n",
    "\n",
    "External style sheets can be referenced with a full URL or with a path relative to the current web page.\n",
    "\n",
    "```\n",
    "<head>\n",
    "  <link rel=\"stylesheet\" href=\"https://www.w3schools.com/html/styles.css\">\n",
    "</head>\n",
    "```\n",
    "\n",
    "```\n",
    "<head>\n",
    "  <link rel=\"stylesheet\" href=\"/html/styles.css\">\n",
    "</head>\n",
    "```\n",
    "\n",
    "# Links\n",
    "\n",
    "Syntax: `<a href=\"url\">link text</a>`\n",
    "\n",
    "A local link (link to the same web site) is specified with a relative URL. `<a href=\"html_images.asp\">HTML Images</a>`\n",
    "\n",
    "By default, a link will appear like this (in all browsers):\n",
    "\n",
    "* An unvisited link is underlined and blue\n",
    "* A visited link is underlined and purple\n",
    "* An active link is underlined and red\n",
    "\n",
    "You can change the default colors, by using CSS:\n",
    "\n",
    "```\n",
    "<head>\n",
    "<style>\n",
    "a:link {\n",
    "    color: green;\n",
    "    background-color: transparent;\n",
    "    text-decoration: none;\n",
    "}\n",
    "a:visited {\n",
    "    color: pink;\n",
    "    background-color: transparent;\n",
    "    text-decoration: none;\n",
    "}\n",
    "a:hover {\n",
    "    color: red;\n",
    "    background-color: transparent;\n",
    "    text-decoration: underline;\n",
    "}\n",
    "a:active {\n",
    "    color: yellow;\n",
    "    background-color: transparent;\n",
    "    text-decoration: underline;\n",
    "}\n",
    "</style>\n",
    "</head>\n",
    "\n",
    "<a href=\"html_images.asp\" target=\"_blank\">HTML Images</a>\n",
    "```\n",
    "\n",
    "The `target` attribute specifies where to open the linked document.\n",
    "\n",
    "The target attribute can have one of the following values:\n",
    "\n",
    "* _blank - Opens the linked document in a new window or tab\n",
    "* _self - Opens the linked document in the same window/tab as it was clicked (this is default)\n",
    "* _parent - Opens the linked document in the parent frame\n",
    "* _top - Opens the linked document in the full body of the window\n",
    "* framename - Opens the linked document in a named frame\n",
    "\n",
    "It is common to use images as links:\n",
    "\n",
    "```\n",
    "<a href=\"default.asp\">\n",
    "  <img src=\"smiley.gif\" alt=\"HTML tutorial\" style=\"width:42px;height:42px;border:0\">\n",
    "</a>\n",
    "```\n",
    "\n",
    "The `title` attribute specifies extra information about an element. The information is most often shown as a tooltip text when the mouse moves over the element.\n",
    "\n",
    "HTML bookmarks are used to allow readers to jump to specific parts of a Web page. Bookmarks can be useful if your webpage is very long. To make a bookmark, you must first create the bookmark, and then add a link to it. When the link is clicked, the page will scroll to the location with the bookmark.\n",
    "\n",
    "First, create a bookmark with the `id` attribute:\n",
    "\n",
    "`<h2 id=\"C4\">Chapter 4</h2>`\n",
    "\n",
    "Then, add a link to the bookmark (\"Jump to Chapter 4\"), from within the same page:\n",
    "\n",
    "`<a href=\"#C4\">Jump to Chapter 4</a>`\n",
    "\n",
    "Or, add a link to the bookmark (\"Jump to Chapter 4\"), from another page:\n",
    "\n",
    "`<a href=\"html_demo.html#C4\">Jump to Chapter 4</a>`\n",
    "\n",
    "# Image\n",
    "\n",
    "The `alt` attribute is required. A web page will not validate correctly without it.\n",
    "\n",
    "You can use the `style` attribute to specify the width and height of an image.\n",
    "\n",
    "`<img src=\"img_girl.jpg\" alt=\"Girl in a jacket\" style=\"width:500px;height:600px;\">`\n",
    "\n",
    "Alternatively, you can use the `width` and `height` attributes:\n",
    "\n",
    "`<img src=\"img_girl.jpg\" alt=\"Girl in a jacket\" width=\"500\" height=\"600\">`\n",
    "\n",
    "Always specify the width and height of an image. If width and height are not specified, the page might flicker while the image loads.\n",
    "\n",
    "The width, height, and style attributes are valid in HTML5. However, we suggest using the `style` attribute. It prevents styles sheets from changing the size of images.\n",
    "\n",
    "Some web sites store their images on image servers. Actually, you can access images from any web address in the world:\n",
    "\n",
    "`<img src=\"https://www.w3schools.com/images/w3schools_green.jpg\" alt=\"W3Schools.com\">`\n",
    "\n",
    "HTML allows animated GIFs:\n",
    "\n",
    "`<img src=\"programming.gif\" alt=\"Computer Man\" style=\"width:48px;height:48px;\">`\n",
    "\n",
    "Use the CSS `float` property to let the image float to the right or to the left of a text:\n",
    "\n",
    "```\n",
    "<p>\n",
    "<img src=\"smiley.gif\" alt=\"Smiley face\" style=\"float:right;width:42px;height:42px;\">\n",
    "A paragraph with a floating image. A paragraph with a floating image. A paragraph with a floating image.\n",
    "</p>\n",
    "```\n",
    "\n",
    "The `<map>` tag defines an image-map. An image-map is an image with clickable areas.\n",
    "\n",
    "```\n",
    "<img src=\"workplace.jpg\" alt=\"Workplace\" usemap=\"#workmap\" width=\"400\" height=\"379\">\n",
    "\n",
    "<map name=\"workmap\">\n",
    "  <area shape=\"rect\" coords=\"34,44,270,350\" alt=\"Computer\" href=\"computer.htm\">\n",
    "  <area shape=\"rect\" coords=\"290,172,333,250\" alt=\"Phone\" href=\"phone.htm\">\n",
    "  <area shape=\"circle\" coords=\"337,300,44\" alt=\"Cup of coffee\" href=\"coffee.htm\">\n",
    "</map>\n",
    "```\n",
    "\n",
    "The name attribute of the `<map>` tag is associated with the `<img>`'s `usemap` attribute and creates a relationship between the image and the map. The `<map>` element contains a number of `<area>` tags, that define the clickable areas in the image-map.\n",
    "\n",
    "To add a background image on an HTML element, use the CSS property `background-image`. To add a background image on a web page, specify the background-image property on the BODY element:\n",
    "\n",
    "`<body style=\"background-image:url('clouds.jpg')\">`\n",
    "\n",
    "It can also be added to a paragraph.\n",
    "\n",
    "HTML5 introduced the `<picture>` element to add more flexibility when specifying image resources. The `<picture>` element contains a number of `<source>` elements, each referring to different image sources. This way the browser can choose the image that best fit the current view and/or device. Each `<source>` element have attributes describing when their image is the most suitable. The browser will use the first `<source>` element with matching attribute values, and ignore any following `<source>` elements.\n",
    "\n",
    "Show one picture if the browser window (viewport) is a minimum of 650 pixels, and another image if not, but larger than 465 pixels.\n",
    "\n",
    "```\n",
    "<picture>\n",
    "  <source media=\"(min-width: 650px)\" srcset=\"img_pink_flowers.jpg\">\n",
    "  <source media=\"(min-width: 465px)\" srcset=\"img_white_flower.jpg\">\n",
    "  <img src=\"img_orange_flowers.jpg\" alt=\"Flowers\" style=\"width:auto;\">\n",
    "</picture>\n",
    "```\n",
    "\n",
    "Always specify an `<img>` element as the last child element of the `<picture>` element. The `<img>` element is used by browsers that do not support the `<picture>` element, or if none of the `<source>` tags matched.\n",
    "\n",
    "# Tables\n",
    "\n",
    "An HTML table is defined with the `<table>` tag.\n",
    "\n",
    "Each table row is defined with the `<tr>` tag. A table header is defined with the `<th>` tag. By default, table headings are bold and centered. A table data/cell is defined with the `<td>` tag.\n",
    "\n",
    "The `<td>` elements are the data containers of the table.\n",
    "They can contain all sorts of HTML elements; text, images, lists, other tables, etc.\n",
    "\n",
    "If you do not specify a border for the table, it will be displayed without borders. A border is set using the CSS `border` property:\n",
    "\n",
    "```\n",
    "<style>\n",
    "table, th, td {\n",
    "    border: 1px solid black;\n",
    "}\n",
    "</style>\n",
    "```\n",
    "\n",
    "Remember to define borders for both the table and the table cells.\n",
    "\n",
    "Without border:\n",
    "\n",
    "<img src=\"img/img03.png\" width=\"500\">\n",
    "\n",
    "With border:\n",
    "\n",
    "<img src=\"img/img04.png\" width=\"500\">\n",
    "\n",
    "If you want the borders to collapse into one border, add the CSS `border-collapse` property:\n",
    "\n",
    "```\n",
    "table, th, td {\n",
    "    border: 1px solid black;\n",
    "    border-collapse: collapse;\n",
    "}\n",
    "```\n",
    "\n",
    "Cell padding specifies the space between the cell content and its borders. If you do not specify a padding, the table cells will be displayed without padding. To set the padding, use the CSS `padding` property:\n",
    "\n",
    "```\n",
    "th, td {\n",
    "    padding: 15px;\n",
    "}\n",
    "```\n",
    "\n",
    "By default, table headings are bold and centered. To left-align the table headings, use the CSS `text-align` property:\n",
    "\n",
    "```\n",
    "th {\n",
    "    text-align: left;\n",
    "}\n",
    "```\n",
    "\n",
    "Border spacing specifies the space between the cells. To set the border spacing for a table, use the CSS `border-spacing` property:\n",
    "\n",
    "```\n",
    "table {\n",
    "    border-spacing: 5px;\n",
    "}\n",
    "```\n",
    "\n",
    "If the table has collapsed borders, `border-spacing` has no effect.\n",
    "\n",
    "To make a cell span more than one column, use the `colspan` attribute:"
   ]
  },
  {
   "cell_type": "code",
   "execution_count": 3,
   "metadata": {
    "collapsed": false
   },
   "outputs": [
    {
     "data": {
      "text/html": [
       "<table style=\"width:100%\">\n",
       "  <tr>\n",
       "    <th>Name</th>\n",
       "    <th colspan=\"2\">Telephone</th>\n",
       "  </tr>\n",
       "  <tr>\n",
       "    <td>Bill Gates</td>\n",
       "    <td>55577854</td>\n",
       "    <td>55577855</td>\n",
       "  </tr>\n",
       "</table>"
      ],
      "text/plain": [
       "<IPython.core.display.HTML object>"
      ]
     },
     "metadata": {},
     "output_type": "display_data"
    }
   ],
   "source": [
    "%%html\n",
    "<table style=\"width:100%\">\n",
    "  <tr>\n",
    "    <th>Name</th>\n",
    "    <th colspan=\"2\">Telephone</th>\n",
    "  </tr>\n",
    "  <tr>\n",
    "    <td>Bill Gates</td>\n",
    "    <td>55577854</td>\n",
    "    <td>55577855</td>\n",
    "  </tr>\n",
    "</table>"
   ]
  },
  {
   "cell_type": "markdown",
   "metadata": {},
   "source": [
    "To make a cell span more than one row, use the `rowspan` attribute:"
   ]
  },
  {
   "cell_type": "code",
   "execution_count": 4,
   "metadata": {
    "collapsed": false
   },
   "outputs": [
    {
     "data": {
      "text/html": [
       "<table style=\"width:100%\">\n",
       "  <tr>\n",
       "    <th>Name:</th>\n",
       "    <td>Bill Gates</td>\n",
       "  </tr>\n",
       "  <tr>\n",
       "    <th rowspan=\"2\">Telephone:</th>\n",
       "    <td>55577854</td>\n",
       "  </tr>\n",
       "  <tr>\n",
       "    <td>55577855</td>\n",
       "  </tr>\n",
       "</table>"
      ],
      "text/plain": [
       "<IPython.core.display.HTML object>"
      ]
     },
     "metadata": {},
     "output_type": "display_data"
    }
   ],
   "source": [
    "%%html\n",
    "<table style=\"width:100%\">\n",
    "  <tr>\n",
    "    <th>Name:</th>\n",
    "    <td>Bill Gates</td>\n",
    "  </tr>\n",
    "  <tr>\n",
    "    <th rowspan=\"2\">Telephone:</th>\n",
    "    <td>55577854</td>\n",
    "  </tr>\n",
    "  <tr>\n",
    "    <td>55577855</td>\n",
    "  </tr>\n",
    "</table>"
   ]
  },
  {
   "cell_type": "markdown",
   "metadata": {},
   "source": [
    "To add a caption to a table, use the `<caption>` tag(The `<caption>` tag must be inserted immediately after the `<table>` tag.):"
   ]
  },
  {
   "cell_type": "code",
   "execution_count": 5,
   "metadata": {
    "collapsed": false
   },
   "outputs": [
    {
     "data": {
      "text/html": [
       "<table style=\"width:100%\">\n",
       "  <caption>Monthly savings</caption>\n",
       "  <tr>\n",
       "    <th>Month</th>\n",
       "    <th>Savings</th>\n",
       "  </tr>\n",
       "  <tr>\n",
       "    <td>January</td>\n",
       "    <td>$100</td>\n",
       "  </tr>\n",
       "  <tr>\n",
       "    <td>February</td>\n",
       "    <td>$50</td>\n",
       "  </tr>\n",
       "</table>"
      ],
      "text/plain": [
       "<IPython.core.display.HTML object>"
      ]
     },
     "metadata": {},
     "output_type": "display_data"
    }
   ],
   "source": [
    "%%html\n",
    "<table style=\"width:100%\">\n",
    "  <caption>Monthly savings</caption>\n",
    "  <tr>\n",
    "    <th>Month</th>\n",
    "    <th>Savings</th>\n",
    "  </tr>\n",
    "  <tr>\n",
    "    <td>January</td>\n",
    "    <td>$100</td>\n",
    "  </tr>\n",
    "  <tr>\n",
    "    <td>February</td>\n",
    "    <td>$50</td>\n",
    "  </tr>\n",
    "</table>"
   ]
  },
  {
   "cell_type": "markdown",
   "metadata": {},
   "source": [
    "To define a special style for a special table, add an `id` attribute to the table:\n",
    "\n",
    "`<table id=\"t01\">`\n",
    "\n",
    "Now you can define a special style for this table:\n",
    "\n",
    "```\n",
    "table#t01 {\n",
    "    width: 100%; \n",
    "    background-color: #f1f1c1;\n",
    "}\n",
    "```"
   ]
  },
  {
   "cell_type": "code",
   "execution_count": 6,
   "metadata": {
    "collapsed": false
   },
   "outputs": [
    {
     "data": {
      "text/html": [
       "<!DOCTYPE html>\n",
       "<html>\n",
       "<head>\n",
       "<style>\n",
       "table {\n",
       "    font-family: arial, sans-serif;\n",
       "    border-collapse: collapse;\n",
       "    width: 100%;\n",
       "}\n",
       "\n",
       "td, th {\n",
       "    border: 1px solid #dddddd;\n",
       "    text-align: left;\n",
       "    padding: 8px;\n",
       "}\n",
       "\n",
       "tr:nth-child(even) {\n",
       "    background-color: #dddddd;\n",
       "}\n",
       "</style>\n",
       "</head>\n",
       "<body>\n",
       "\n",
       "<h2>HTML Table</h2>\n",
       "\n",
       "<table>\n",
       "  <tr>\n",
       "    <th>Company</th>\n",
       "    <th>Contact</th>\n",
       "    <th>Country</th>\n",
       "  </tr>\n",
       "  <tr>\n",
       "    <td>Alfreds Futterkiste</td>\n",
       "    <td>Maria Anders</td>\n",
       "    <td>Germany</td>\n",
       "  </tr>\n",
       "  <tr>\n",
       "    <td>Centro comercial Moctezuma</td>\n",
       "    <td>Francisco Chang</td>\n",
       "    <td>Mexico</td>\n",
       "  </tr>\n",
       "  <tr>\n",
       "    <td>Ernst Handel</td>\n",
       "    <td>Roland Mendel</td>\n",
       "    <td>Austria</td>\n",
       "  </tr>\n",
       "  <tr>\n",
       "    <td>Island Trading</td>\n",
       "    <td>Helen Bennett</td>\n",
       "    <td>UK</td>\n",
       "  </tr>\n",
       "  <tr>\n",
       "    <td>Laughing Bacchus Winecellars</td>\n",
       "    <td>Yoshi Tannamuri</td>\n",
       "    <td>Canada</td>\n",
       "  </tr>\n",
       "  <tr>\n",
       "    <td>Magazzini Alimentari Riuniti</td>\n",
       "    <td>Giovanni Rovelli</td>\n",
       "    <td>Italy</td>\n",
       "  </tr>\n",
       "</table>\n",
       "\n",
       "</body>\n",
       "</html>"
      ],
      "text/plain": [
       "<IPython.core.display.HTML object>"
      ]
     },
     "metadata": {},
     "output_type": "display_data"
    }
   ],
   "source": [
    "%%html\n",
    "<!DOCTYPE html>\n",
    "<html>\n",
    "<head>\n",
    "<style>\n",
    "table {\n",
    "    font-family: arial, sans-serif;\n",
    "    border-collapse: collapse;\n",
    "    width: 100%;\n",
    "}\n",
    "\n",
    "td, th {\n",
    "    border: 1px solid #dddddd;\n",
    "    text-align: left;\n",
    "    padding: 8px;\n",
    "}\n",
    "\n",
    "tr:nth-child(even) {\n",
    "    background-color: #dddddd;\n",
    "}\n",
    "</style>\n",
    "</head>\n",
    "<body>\n",
    "\n",
    "<h2>HTML Table</h2>\n",
    "\n",
    "<table>\n",
    "  <tr>\n",
    "    <th>Company</th>\n",
    "    <th>Contact</th>\n",
    "    <th>Country</th>\n",
    "  </tr>\n",
    "  <tr>\n",
    "    <td>Alfreds Futterkiste</td>\n",
    "    <td>Maria Anders</td>\n",
    "    <td>Germany</td>\n",
    "  </tr>\n",
    "  <tr>\n",
    "    <td>Centro comercial Moctezuma</td>\n",
    "    <td>Francisco Chang</td>\n",
    "    <td>Mexico</td>\n",
    "  </tr>\n",
    "  <tr>\n",
    "    <td>Ernst Handel</td>\n",
    "    <td>Roland Mendel</td>\n",
    "    <td>Austria</td>\n",
    "  </tr>\n",
    "  <tr>\n",
    "    <td>Island Trading</td>\n",
    "    <td>Helen Bennett</td>\n",
    "    <td>UK</td>\n",
    "  </tr>\n",
    "  <tr>\n",
    "    <td>Laughing Bacchus Winecellars</td>\n",
    "    <td>Yoshi Tannamuri</td>\n",
    "    <td>Canada</td>\n",
    "  </tr>\n",
    "  <tr>\n",
    "    <td>Magazzini Alimentari Riuniti</td>\n",
    "    <td>Giovanni Rovelli</td>\n",
    "    <td>Italy</td>\n",
    "  </tr>\n",
    "</table>\n",
    "\n",
    "</body>\n",
    "</html>"
   ]
  },
  {
   "cell_type": "markdown",
   "metadata": {},
   "source": [
    "The CSS `list-style-type property` is used to define the style of the list item marker:\n",
    "\n",
    "<img src=\"img/img05.png\" width=\"500\">\n",
    "\n",
    "```\n",
    "<ul style=\"list-style-type:disc\">\n",
    "  <li>Coffee</li>\n",
    "  <li>Tea</li>\n",
    "  <li>Milk</li>\n",
    "</ul>\n",
    "```\n",
    "\n",
    "The `type` attribute of the `<ol>` tag, defines the type of the list item marker:\n",
    "\n",
    "<img src=\"img/img06.png\" width=\"500\">\n",
    "\n",
    "```\n",
    "<ol type=\"A\">\n",
    "  <li>Coffee</li>\n",
    "  <li>Tea</li>\n",
    "  <li>Milk</li>\n",
    "</ol>\n",
    "```\n",
    "\n",
    "HTML also supports description lists. A description list is a list of terms, with a description of each term. The `<dl>` tag defines the description list, the `<dt>` tag defines the term (name), and the `<dd>` tag describes each term:"
   ]
  },
  {
   "cell_type": "code",
   "execution_count": 7,
   "metadata": {
    "collapsed": false
   },
   "outputs": [
    {
     "data": {
      "text/html": [
       "<dl>\n",
       "  <dt>Coffee</dt>\n",
       "  <dd>- black hot drink</dd>\n",
       "  <dt>Milk</dt>\n",
       "  <dd>- white cold drink</dd>\n",
       "</dl>"
      ],
      "text/plain": [
       "<IPython.core.display.HTML object>"
      ]
     },
     "metadata": {},
     "output_type": "display_data"
    }
   ],
   "source": [
    "%%html\n",
    "<dl>\n",
    "  <dt>Coffee</dt>\n",
    "  <dd>- black hot drink</dd>\n",
    "  <dt>Milk</dt>\n",
    "  <dd>- white cold drink</dd>\n",
    "</dl>"
   ]
  },
  {
   "cell_type": "markdown",
   "metadata": {},
   "source": [
    "List can be nested (lists inside lists):\n",
    "\n",
    "```\n",
    "<ul>\n",
    "  <li>Coffee</li>\n",
    "  <li>Tea\n",
    "    <ul>\n",
    "      <li>Black tea</li>\n",
    "      <li>Green tea</li>\n",
    "    </ul>\n",
    "  </li>\n",
    "  <li>Milk</li>\n",
    "</ul>\n",
    "```\n",
    "\n",
    "List items can contain new list, and other HTML elements, like images and links, etc.\n",
    "\n",
    "By default, an ordered list will start counting from 1. If you want to start counting from a specified number, you can use the `start` attribute:\n",
    "\n",
    "```\n",
    "<ol start=\"50\">\n",
    "  <li>Coffee</li>\n",
    "  <li>Tea</li>\n",
    "  <li>Milk</li>\n",
    "</ol>\n",
    "```\n",
    "\n",
    "HTML lists can be styled in many different ways with CSS property `float:left` or `display:inline`. One popular way is to style a list horizontally, to create a navigation menu:"
   ]
  },
  {
   "cell_type": "code",
   "execution_count": 22,
   "metadata": {
    "collapsed": false
   },
   "outputs": [
    {
     "data": {
      "text/html": [
       "<!--\n",
       "<!DOCTYPE html>\n",
       "<html>\n",
       "<head>\n",
       "<style>\n",
       "ul {\n",
       "    list-style-type: none;\n",
       "    margin: 0;\n",
       "    padding: 0;\n",
       "    overflow: hidden;\n",
       "    background-color: #333333;\n",
       "}\n",
       "\n",
       "li {\n",
       "    float: left;\n",
       "}\n",
       "\n",
       "li a {\n",
       "    display: block;\n",
       "    color: white;\n",
       "    text-align: center;\n",
       "    padding: 16px;\n",
       "    text-decoration: none;\n",
       "}\n",
       "\n",
       "li a:hover {\n",
       "    background-color: #111111;\n",
       "}\n",
       "</style>\n",
       "</head>\n",
       "<body>\n",
       "\n",
       "<h2>Navigation Menu</h2>\n",
       "<p>In this example, we use CSS to style the list horizontally, to create a navigation menu:</p>\n",
       "\n",
       "<ul>\n",
       "  <li><a href=\"#home\">Home</a></li>\n",
       "  <li><a href=\"#news\">News</a></li>\n",
       "  <li><a href=\"#contact\">Contact</a></li>\n",
       "  <li><a href=\"#about\">About</a></li>\n",
       "</ul>\n",
       "\n",
       "</body>\n",
       "</html>\n",
       "-->"
      ],
      "text/plain": [
       "<IPython.core.display.HTML object>"
      ]
     },
     "metadata": {},
     "output_type": "display_data"
    }
   ],
   "source": [
    "%%html\n",
    "<!--\n",
    "<!DOCTYPE html>\n",
    "<html>\n",
    "<head>\n",
    "<style>\n",
    "ul {\n",
    "    list-style-type: none;\n",
    "    margin: 0;\n",
    "    padding: 0;\n",
    "    overflow: hidden;\n",
    "    background-color: #333333;\n",
    "}\n",
    "\n",
    "li {\n",
    "    float: left;\n",
    "}\n",
    "\n",
    "li a {\n",
    "    display: block;\n",
    "    color: white;\n",
    "    text-align: center;\n",
    "    padding: 16px;\n",
    "    text-decoration: none;\n",
    "}\n",
    "\n",
    "li a:hover {\n",
    "    background-color: #111111;\n",
    "}\n",
    "</style>\n",
    "</head>\n",
    "<body>\n",
    "\n",
    "<h2>Navigation Menu</h2>\n",
    "<p>In this example, we use CSS to style the list horizontally, to create a navigation menu:</p>\n",
    "\n",
    "<ul>\n",
    "  <li><a href=\"#home\">Home</a></li>\n",
    "  <li><a href=\"#news\">News</a></li>\n",
    "  <li><a href=\"#contact\">Contact</a></li>\n",
    "  <li><a href=\"#about\">About</a></li>\n",
    "</ul>\n",
    "\n",
    "</body>\n",
    "</html>\n",
    "-->"
   ]
  },
  {
   "cell_type": "markdown",
   "metadata": {},
   "source": [
    "# Blocks\n",
    "\n",
    "Every HTML element has a default display value depending on what type of element it is. The default display value for most elements is block or inline.\n",
    "\n",
    "A block-level element always starts on a new line and takes up the full width available (stretches out to the left and right as far as it can). The `<div>` element is a block-level element."
   ]
  },
  {
   "cell_type": "code",
   "execution_count": 10,
   "metadata": {
    "collapsed": false
   },
   "outputs": [
    {
     "data": {
      "text/html": [
       "<div>Hello</div>\n",
       "<div>World</div>"
      ],
      "text/plain": [
       "<IPython.core.display.HTML object>"
      ]
     },
     "metadata": {},
     "output_type": "display_data"
    }
   ],
   "source": [
    "%%html\n",
    "<div>Hello</div>\n",
    "<div>World</div>"
   ]
  },
  {
   "cell_type": "markdown",
   "metadata": {},
   "source": [
    "An inline element does not start on a new line and only takes up as much width as necessary. This is an inline `<span>` element inside a paragraph."
   ]
  },
  {
   "cell_type": "code",
   "execution_count": 11,
   "metadata": {
    "collapsed": false
   },
   "outputs": [
    {
     "data": {
      "text/html": [
       "<span>Hello</span>\n",
       "<span>World</span>"
      ],
      "text/plain": [
       "<IPython.core.display.HTML object>"
      ]
     },
     "metadata": {},
     "output_type": "display_data"
    }
   ],
   "source": [
    "%%html\n",
    "<span>Hello</span>\n",
    "<span>World</span>"
   ]
  },
  {
   "cell_type": "markdown",
   "metadata": {},
   "source": [
    "The `<div>` element is often used as a container for other HTML elements. The `<div>` element has no required attributes, but `style`, `class` and `id` are common. When used together with CSS, the `<div>` element can be used to style blocks of content:"
   ]
  },
  {
   "cell_type": "code",
   "execution_count": 21,
   "metadata": {
    "collapsed": false
   },
   "outputs": [
    {
     "data": {
      "text/html": [
       "<!--\n",
       "<div style=\"background-color:black;color:white;padding:20px;\">\n",
       "  <h2>London</h2>\n",
       "  <p>London is the capital city of England. It is the most populous city in the United Kingdom, with a metropolitan area of over 13 million inhabitants.</p>\n",
       "  <p>Standing on the River Thames, London has been a major settlement for two millennia, its history going back to its founding by the Romans, who named it Londinium.</p>\n",
       "</div>\n",
       "-->"
      ],
      "text/plain": [
       "<IPython.core.display.HTML object>"
      ]
     },
     "metadata": {},
     "output_type": "display_data"
    }
   ],
   "source": [
    "%%html\n",
    "<!--\n",
    "<div style=\"background-color:black;color:white;padding:20px;\">\n",
    "  <h2>London</h2>\n",
    "  <p>London is the capital city of England. It is the most populous city in the United Kingdom, with a metropolitan area of over 13 million inhabitants.</p>\n",
    "  <p>Standing on the River Thames, London has been a major settlement for two millennia, its history going back to its founding by the Romans, who named it Londinium.</p>\n",
    "</div>\n",
    "-->"
   ]
  },
  {
   "cell_type": "markdown",
   "metadata": {},
   "source": [
    "The `<span>` element is often used as a container for some text. When used together with CSS, the `<span>` element can be used to style parts of the text:"
   ]
  },
  {
   "cell_type": "code",
   "execution_count": 17,
   "metadata": {
    "collapsed": false
   },
   "outputs": [
    {
     "data": {
      "text/html": [
       "<h1>My <span style=\"color:red\">Important</span> Heading</h1>"
      ],
      "text/plain": [
       "<IPython.core.display.HTML object>"
      ]
     },
     "metadata": {},
     "output_type": "display_data"
    }
   ],
   "source": [
    "%%html\n",
    "<h1>My <span style=\"color:red\">Important</span> Heading</h1>"
   ]
  },
  {
   "cell_type": "markdown",
   "metadata": {},
   "source": [
    "# Class\n",
    "\n",
    "The `class` attribute specifies one or more class names for an HTML element. The class name can be used by CSS and JavaScript to perform certain tasks for elements with the specified class name. In CSS, to select elements with a specific class, write a period (.) character, followed by the name of the class:"
   ]
  },
  {
   "cell_type": "code",
   "execution_count": 14,
   "metadata": {
    "collapsed": false
   },
   "outputs": [
    {
     "data": {
      "text/html": [
       "<style>\n",
       ".city {\n",
       "    background-color: tomato;\n",
       "    color: white;\n",
       "    padding: 10px;\n",
       "} \n",
       "</style>\n",
       "\n",
       "<h2 class=\"city\">London</h2>\n",
       "<p>London is the capital of England.</p>\n",
       "\n",
       "<h2 class=\"city\">Paris</h2>\n",
       "<p>Paris is the capital of France.</p>\n",
       "\n",
       "<h2 class=\"city\">Tokyo</h2>\n",
       "<p>Tokyo is the capital of Japan.</p>"
      ],
      "text/plain": [
       "<IPython.core.display.HTML object>"
      ]
     },
     "metadata": {},
     "output_type": "display_data"
    }
   ],
   "source": [
    "%%html\n",
    "<style>\n",
    ".city {\n",
    "    background-color: tomato;\n",
    "    color: white;\n",
    "    padding: 10px;\n",
    "} \n",
    "</style>\n",
    "\n",
    "<h2 class=\"city\">London</h2>\n",
    "<p>London is the capital of England.</p>\n",
    "\n",
    "<h2 class=\"city\">Paris</h2>\n",
    "<p>Paris is the capital of France.</p>\n",
    "\n",
    "<h2 class=\"city\">Tokyo</h2>\n",
    "<p>Tokyo is the capital of Japan.</p>"
   ]
  },
  {
   "cell_type": "markdown",
   "metadata": {},
   "source": [
    "he class attribute can be used on any HTML element. The class name is case sensitive!\n",
    "\n",
    "JavaScript can access elements with a specified class name by using the `getElementsByClassName()` method:\n",
    "\n",
    "When a user clicks on a button, hide all elements with the class name \"city\":\n",
    "```\n",
    "<script>\n",
    "function myFunction() {\n",
    "  var x = document.getElementsByClassName(\"city\");\n",
    "  for (var i = 0; i < x.length; i++) {\n",
    "    x[i].style.display = \"none\";\n",
    "  }\n",
    "}\n",
    "</script>\n",
    "```\n",
    "\n",
    "HTML elements can have more than one class name, each class name must be separated by a space.\n",
    "\n",
    "Style elements with the class name \"city\", also style elements with the class name \"main\":\n",
    "\n",
    "```\n",
    "<h2 class=\"city main\">London</h2>\n",
    "<h2 class=\"city\">Paris</h2>\n",
    "<h2 class=\"city\">Tokyo</h2>\n",
    "```\n",
    "\n",
    "# id\n",
    "\n",
    "The `id` attribute specifies a unique id for an HTML element (the value must be unique within the HTML document). The id value can be used by CSS and JavaScript to perform certain tasks for a unique element with the specified id value. In CSS, to select an element with a specific id, write a hash (#) character, followed by the id of the element.\n",
    "\n",
    "The `id` attribute can be used on any HTML element. The id value is case-sensitive. The id value must contain at least **one** character, and must not contain whitespace (spaces, tabs, etc.).\n",
    "\n",
    "Difference between id and class: An HTML element can only have one unique id that belongs to that single element, while a class name can be used by multiple elements.\n",
    "\n",
    "JavaScript can access an element with a specified id by using the `getElementById()` method:\n",
    "\n",
    "Use the id attribute to manipulate text with JavaScript:\n",
    "\n",
    "```\n",
    "<script>\n",
    "function displayResult() {\n",
    "    document.getElementById(\"myHeader\").innerHTML = \"Have a nice day!\";\n",
    "}\n",
    "</script>\n",
    "```\n",
    "\n",
    "# Iframes\n",
    "\n",
    "An iframe is used to display a web page within a web page.\n",
    "\n",
    "An HTML iframe is defined with the `<iframe>`tag:\n",
    "\n",
    "```\n",
    "<iframe src=\"URL\"></iframe>\n",
    "```\n",
    "\n",
    "Use the `height` and `width` attributes to specify the size of the iframe. The attribute values are specified in pixels by default, but they can also be in percent (like \"80%\").\n",
    "\n",
    "By default, an iframe has a border around it. To remove the border, add the `style` attribute and use the CSS `border` property:\n",
    "\n",
    "```\n",
    "<iframe src=\"demo_iframe.htm\" style=\"border:none;\"></iframe>\n",
    "```\n",
    "\n",
    "An iframe can be used as the target frame for a link. The `target` attribute of the link must refer to the `name` attribute of the iframe:\n",
    "\n",
    "```\n",
    "<iframe src=\"demo_iframe.htm\" name=\"iframe_a\"></iframe>\n",
    "\n",
    "<p><a href=\"https://www.w3schools.com\" target=\"iframe_a\">W3Schools.com</a></p>\n",
    "```\n",
    "\n",
    "# JavaScript\n",
    "\n",
    "JavaScript makes HTML pages more dynamic and interactive.\n",
    "\n",
    "The `<script>` tag is used to define a client-side script (JavaScript). The `<script>` element either contains scripting statements, or it points to an external script file through the `src` attribute. Common uses for JavaScript are image manipulation, form validation, and dynamic changes of content. To select an HTML element, JavaScript very often uses the `document.getElementById()` method.\n",
    "\n",
    "```\n",
    "document.getElementById(\"demo\").style.fontSize = \"25px\";\n",
    "document.getElementById(\"demo\").style.color = \"red\";\n",
    "document.getElementById(\"demo\").style.backgroundColor = \"yellow\";\n",
    "```\n",
    "\n",
    "The `<noscript>` tag is used to provide an alternate content for users that have disabled scripts in their browser or have a browser that doesn't support client-side scripts:\n",
    "\n",
    "```\n",
    "<script>\n",
    "document.getElementById(\"demo\").innerHTML = \"Hello JavaScript!\";\n",
    "</script>\n",
    "\n",
    "<noscript>Sorry, your browser does not support JavaScript!</noscript>\n",
    "```\n",
    "\n",
    "# File Paths\n",
    "\n",
    "<img src=\"img/img07.png\" width=\"500\">\n",
    "\n",
    "When using relative file paths, your web pages will not be bound to your current base URL. All links will work on your own computer (localhost) as well as on your current public domain and your future public domains. \n",
    "\n",
    "# Head\n",
    "\n",
    "The `<head>` element is a container for metadata (data about data) and is placed between the `<html>` tag and the `<body>` tag. HTML metadata is data about the HTML document. Metadata is not displayed.\n",
    "\n",
    "Metadata typically define the document title, character set, styles, links, scripts, and other meta information.\n",
    "\n",
    "The following tags describe metadata: `<title>`, `<style>`, `<meta>`, `<link>`, `<script>`, and `<base>`.\n",
    "\n",
    "The `<title>` element defines the title of the document, and is required in all HTML/XHTML documents.\n",
    "\n",
    "The `<title>` element:\n",
    "\n",
    "* defines a title in the browser tab\n",
    "* provides a title for the page when it is added to favorites\n",
    "* displays a title for the page in search engine results\n",
    "\n",
    "The `<style>` element is used to define style information for a single HTML page.\n",
    "\n",
    "The `<link>` element is used to link to external style sheets:\n",
    "\n",
    "```\n",
    "<link rel=\"stylesheet\" href=\"mystyle.css\">\n",
    "```\n",
    "\n",
    "The `<meta>` element is used to specify which character set is used, page description, keywords, author, and other metadata.\n",
    "\n",
    "Metadata is used by browsers (how to display content), by search engines (keywords), and other web services.\n",
    "\n",
    "Define the character set used:\n",
    "```\n",
    "<meta charset=\"UTF-8\">\n",
    "```\n",
    "\n",
    "Define a description of your web page:\n",
    "```\n",
    "<meta name=\"description\" content=\"Free Web tutorials\">\n",
    "```\n",
    "\n",
    "Define keywords for search engines:\n",
    "```\n",
    "<meta name=\"keywords\" content=\"HTML, CSS, XML, JavaScript\">\n",
    "```\n",
    "\n",
    "Define the author of a page:\n",
    "```\n",
    "<meta name=\"author\" content=\"John Doe\">\n",
    "```\n",
    "\n",
    "Refresh document every 30 seconds:\n",
    "```\n",
    "<meta http-equiv=\"refresh\" content=\"30\">\n",
    "```\n",
    "\n",
    "Example of `<meta>` tags:\n",
    "```\n",
    "<meta charset=\"UTF-8\">\n",
    "<meta name=\"description\" content=\"Free Web tutorials\">\n",
    "<meta name=\"keywords\" content=\"HTML,CSS,XML,JavaScript\">\n",
    "<meta name=\"author\" content=\"John Doe\">\n",
    "```\n",
    "\n",
    "HTML5 introduced a method to let web designers take control over the viewport, through the `<meta>` tag.\n",
    "\n",
    "The viewport is the user's visible area of a web page. It varies with the device, and will be smaller on a mobile phone than on a computer screen.\n",
    "\n",
    "You should include the following `<meta>` viewport element in all your web pages:\n",
    "```\n",
    "<meta name=\"viewport\" content=\"width=device-width, initial-scale=1.0\">\n",
    "```\n",
    "\n",
    "The width=device-width part sets the width of the page to follow the screen-width of the device (which will vary depending on the device).\n",
    "\n",
    "The initial-scale=1.0 part sets the initial zoom level when the page is first loaded by the browser.\n",
    "\n",
    "The `<script>` element is used to define client-side JavaScripts.\n",
    "\n",
    "The `<base>` element specifies the base URL and base target for all relative URLs in a page:\n",
    "```\n",
    "<base href=\"https://www.w3schools.com/images/\" target=\"_blank\">\n",
    "```\n",
    "\n",
    "According to the HTML5 standard; the `<html>`, the `<body>`, and the `<head>` tag can be omitted.\n",
    "\n",
    "Websites often display content in multiple columns (like a magazine or newspaper).\n",
    "\n",
    "HTML5 offers new semantic elements that define the different parts of a web page:\n",
    "\n",
    "<img src=\"img/img08.png\" width=\"500\">\n",
    "\n",
    "There are four different ways to create multicolumn layouts. Each way has its pros and cons:\n",
    "\n",
    "* CSS float property\n",
    "* CSS framework\n",
    "* CSS flexbox\n",
    "\n",
    "It is common to do entire web layouts using the CSS float property. Float is easy to learn - you just need to remember how the float and clear properties work. Disadvantages: Floating elements are tied to the document flow, which may harm the flexibility.\n",
    "\n",
    "Flexbox is a new layout mode in CSS3. Use of flexbox ensures that elements behave predictably when the page layout must accommodate different screen sizes and different display devices. Disadvantages: Does not work in IE10 and earlier.\n",
    "\n",
    "# Responsive\n",
    "\n",
    "Responsive Web Design makes your web page look good on all devices (desktops, tablets, and phones).\n",
    "\n",
    "Responsive Web Design is about using HTML and CSS to resize, hide, shrink, enlarge, or move the content to make it look good on any screen.\n",
    "\n",
    "Responsive images are images that scale nicely to fit any browser size.\n",
    "\n",
    "If the CSS `width` property is set to 100%, the image will be responsive and scale up and down.\n",
    "\n",
    "Notice that in the example above, the image can be scaled up to be larger than its original size. A better solution, in many cases, will be to use the `max-width` property instead.\n",
    "\n",
    "If the `max-width` property is set to 100%, the image will scale down if it has to, but never scale up to be larger than its original size.\n",
    "\n",
    "```\n",
    "<img src=\"img_girl.jpg\" style=\"max-width:100%;height:auto;\">\n",
    "```\n",
    "\n",
    "The text size can be set with a \"vw\" unit, which means the \"viewport width\". That way the text size will follow the size of the browser window.\n",
    "\n",
    "```\n",
    "<h1 style=\"font-size:10vw\">Hello World</h1>\n",
    "```\n",
    "\n",
    "Viewport is the browser window size. 1vw = 1% of viewport width. If the viewport is 50cm wide, 1vw is 0.5cm.\n",
    "\n",
    "In addition to resize text and images, it is also common to use media queries in responsive web pages.\n",
    "\n",
    "With media queries you can define completely different styles for different browser sizes.\n",
    "\n",
    "Example: resize the browser window to see that the three div elements below will display horizontally on large screens and stacked vertically on small screens:\n",
    "```\n",
    "<style>\n",
    ".left, .right {\n",
    "  float: left;\n",
    "  width: 20%; /* The width is 20%, by default */\n",
    "}\n",
    "\n",
    ".main {\n",
    "  float: left;\n",
    "  width: 60%; /* The width is 60%, by default */\n",
    "}\n",
    "\n",
    "/* Use a media query to add a breakpoint at 800px: */\n",
    "@media screen and (max-width: 800px) {\n",
    "  .left, .main, .right {\n",
    "    width: 100%; /* The width is 100%, when the viewport is 800px or smaller */\n",
    "  }\n",
    "}\n",
    "</style>\n",
    "```\n",
    "\n",
    "# Computercode\n",
    "\n",
    "The HTML `<kbd>` element represents user input, like keyboard input or voice commands.\n",
    "\n",
    "Text surrounded by `<kbd>` tags is typically displayed in the browser's default monospace font:"
   ]
  },
  {
   "cell_type": "code",
   "execution_count": 23,
   "metadata": {
    "collapsed": false
   },
   "outputs": [
    {
     "data": {
      "text/html": [
       "<p>Save the document by pressing <kbd>Ctrl + S</kbd></p>"
      ],
      "text/plain": [
       "<IPython.core.display.HTML object>"
      ]
     },
     "metadata": {},
     "output_type": "display_data"
    }
   ],
   "source": [
    "%%html\n",
    "<p>Save the document by pressing <kbd>Ctrl + S</kbd></p>"
   ]
  },
  {
   "cell_type": "markdown",
   "metadata": {},
   "source": [
    "The HTML `<samp>` element represents output from a program or computing system.\n",
    "\n",
    "Text surrounded by `<samp>` tags is typically displayed in the browser's default monospace font:"
   ]
  },
  {
   "cell_type": "code",
   "execution_count": 24,
   "metadata": {
    "collapsed": false
   },
   "outputs": [
    {
     "data": {
      "text/html": [
       "<p>If you input wrong value, the program will return <samp>Error!</samp></p>"
      ],
      "text/plain": [
       "<IPython.core.display.HTML object>"
      ]
     },
     "metadata": {},
     "output_type": "display_data"
    }
   ],
   "source": [
    "%%html\n",
    "<p>If you input wrong value, the program will return <samp>Error!</samp></p>"
   ]
  },
  {
   "cell_type": "markdown",
   "metadata": {},
   "source": [
    "The HTML `<code>` element defines a fragment of computer code.\n",
    "\n",
    "The HTML `<var>` element defines a variable.\n",
    "\n",
    "The variable could be a variable in a mathematical expression or a variable in programming context:"
   ]
  },
  {
   "cell_type": "code",
   "execution_count": 25,
   "metadata": {
    "collapsed": false
   },
   "outputs": [
    {
     "data": {
      "text/html": [
       "Einstein wrote: <var>E</var> = <var>mc</var><sup>2</sup>."
      ],
      "text/plain": [
       "<IPython.core.display.HTML object>"
      ]
     },
     "metadata": {},
     "output_type": "display_data"
    }
   ],
   "source": [
    "%%html\n",
    "Einstein wrote: <var>E</var> = <var>mc</var><sup>2</sup>."
   ]
  },
  {
   "cell_type": "markdown",
   "metadata": {},
   "source": [
    "# Entities\n",
    "\n",
    "Reserved characters in HTML must be replaced with character entities.\n",
    "\n",
    "Characters that are not present on your keyboard can also be replaced by entities.\n",
    "\n",
    "Some characters are reserved in HTML.\n",
    "\n",
    "If you use the less than (`<`) or greater than (`>`) signs in your text, the browser might mix them with tags. Character entities are used to display reserved characters in HTML.\n",
    "\n",
    "A character entity looks like this:\n",
    "`&entity_name; or &#entity_number;`\n",
    "\n",
    "To display a less than sign (`<`) we must write: **`&lt;`** or **`&#60;`**\n",
    "\n",
    "Disadvantage of using an entity name: Browsers may not support all entity names, but the support for numbers is good.\n",
    "\n",
    "A common character entity used in HTML is the non-breaking space: `**&nbsp;**`\n",
    "\n",
    "A non-breaking space is a space that will not break into a new line.\n",
    "\n",
    "# URL Encode\n",
    "\n",
    "A web address, follows these syntax rules:\n",
    "```\n",
    "scheme://prefix.domain:port/path/filename\n",
    "```\n",
    "\n",
    "* scheme - defines the type of Internet service (most common is http or https)\n",
    "* prefix - defines a domain prefix (default for http is www)\n",
    "* domain - defines the Internet domain name (like w3schools.com)\n",
    "* port - defines the port number at the host (default for http is 80)\n",
    "* path - defines a path at the server (If omitted: the root directory of the site)\n",
    "* filename - defines the name of a document or resource\n",
    "\n",
    "URLs can only be sent over the Internet using the ASCII character-set. If a URL contains characters outside the ASCII set, the URL has to be converted.\n",
    "\n",
    "URL encoding converts non-ASCII characters into a format that can be transmitted over the Internet.\n",
    "\n",
    "URL encoding replaces non-ASCII characters with a \"%\" followed by hexadecimal digits.\n",
    "\n",
    "URLs cannot contain spaces. URL encoding normally replaces a space with a plus (+) sign, or %20.\n",
    "\n",
    "# XHTML\n",
    "\n",
    "XHTML is HTML written as XML. \n",
    "\n",
    "Many pages on the internet contain \"bad\" HTML. This HTML code works fine in most browsers (even if it does not follow the HTML rules e.g. no end tag). \n",
    "\n",
    "Today's market consists of different browser technologies. Some browsers run on computers, and some browsers run on mobile phones or other small devices. Smaller devices often lack the resources or power to interpret \"bad\" markup.\n",
    "\n",
    "XML is a markup language where documents must be marked up correctly (be \"well-formed\").\n",
    "\n",
    "By combining the strengths of HTML and XML, XHTML was developed. XHTML is HTML redesigned as XML.\n",
    "\n",
    "Document Structure\n",
    "* XHTML DOCTYPE is mandatory\n",
    "* The `xmlns` attribute(xml namespace) in `<html>` is mandatory\n",
    "* `<html>`, `<head>`, `<title>`, and `<body>` are mandatory\n",
    "\n",
    "XHTML Elements\n",
    "* XHTML elements must be properly nested\n",
    "* XHTML elements must always be closed\n",
    "* XHTML elements must be in lowercase\n",
    "* XHTML documents must have one root element\n",
    "\n",
    "XHTML Attributes\n",
    "* Attribute names must be in lower case\n",
    "* Attribute values must be quoted\n",
    "* Attribute minimization is forbidden\n",
    "\n",
    "Empty elements must also be closed. An image: `<img src=\"happy.gif\" alt=\"Happy face\" />`"
   ]
  },
  {
   "cell_type": "code",
   "execution_count": null,
   "metadata": {
    "collapsed": true
   },
   "outputs": [],
   "source": []
  }
 ],
 "metadata": {
  "kernelspec": {
   "display_name": "Python 3",
   "language": "python",
   "name": "python3"
  },
  "language_info": {
   "codemirror_mode": {
    "name": "ipython",
    "version": 3
   },
   "file_extension": ".py",
   "mimetype": "text/x-python",
   "name": "python",
   "nbconvert_exporter": "python",
   "pygments_lexer": "ipython3",
   "version": "3.6.0"
  }
 },
 "nbformat": 4,
 "nbformat_minor": 2
}
